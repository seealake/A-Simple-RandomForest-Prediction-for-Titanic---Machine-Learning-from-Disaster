{
 "cells": [
  {
   "cell_type": "markdown",
   "id": "f9340b17-9c90-489d-8838-34a7ab7832ea",
   "metadata": {},
   "source": [
    "# Using RandomForest to Predict Survival Rate of Titanic"
   ]
  },
  {
   "cell_type": "markdown",
   "id": "0da7ba18-25f6-41af-830a-91f432341c4c",
   "metadata": {},
   "source": [
    "# (1): Let's start by visualizing the data from train.csv"
   ]
  },
  {
   "cell_type": "code",
   "execution_count": 34,
   "id": "1b4ec710-3143-47d3-9546-9beec8aaa46b",
   "metadata": {},
   "outputs": [],
   "source": [
    "import pandas as pd\n",
    "import matplotlib.pyplot as plt\n",
    "import numpy as np\n",
    "df = pd.read_csv('train.csv')"
   ]
  },
  {
   "cell_type": "code",
   "execution_count": 35,
   "id": "0f22b9dd-97db-456e-9463-e482c469e953",
   "metadata": {},
   "outputs": [
    {
     "data": {
      "text/html": [
       "<div>\n",
       "<style scoped>\n",
       "    .dataframe tbody tr th:only-of-type {\n",
       "        vertical-align: middle;\n",
       "    }\n",
       "\n",
       "    .dataframe tbody tr th {\n",
       "        vertical-align: top;\n",
       "    }\n",
       "\n",
       "    .dataframe thead th {\n",
       "        text-align: right;\n",
       "    }\n",
       "</style>\n",
       "<table border=\"1\" class=\"dataframe\">\n",
       "  <thead>\n",
       "    <tr style=\"text-align: right;\">\n",
       "      <th></th>\n",
       "      <th>PassengerId</th>\n",
       "      <th>Survived</th>\n",
       "      <th>Pclass</th>\n",
       "      <th>Name</th>\n",
       "      <th>Sex</th>\n",
       "      <th>Age</th>\n",
       "      <th>SibSp</th>\n",
       "      <th>Parch</th>\n",
       "      <th>Ticket</th>\n",
       "      <th>Fare</th>\n",
       "      <th>Cabin</th>\n",
       "      <th>Embarked</th>\n",
       "    </tr>\n",
       "  </thead>\n",
       "  <tbody>\n",
       "    <tr>\n",
       "      <th>0</th>\n",
       "      <td>1</td>\n",
       "      <td>0</td>\n",
       "      <td>3</td>\n",
       "      <td>Braund, Mr. Owen Harris</td>\n",
       "      <td>male</td>\n",
       "      <td>22.0</td>\n",
       "      <td>1</td>\n",
       "      <td>0</td>\n",
       "      <td>A/5 21171</td>\n",
       "      <td>7.2500</td>\n",
       "      <td>NaN</td>\n",
       "      <td>S</td>\n",
       "    </tr>\n",
       "    <tr>\n",
       "      <th>1</th>\n",
       "      <td>2</td>\n",
       "      <td>1</td>\n",
       "      <td>1</td>\n",
       "      <td>Cumings, Mrs. John Bradley (Florence Briggs Th...</td>\n",
       "      <td>female</td>\n",
       "      <td>38.0</td>\n",
       "      <td>1</td>\n",
       "      <td>0</td>\n",
       "      <td>PC 17599</td>\n",
       "      <td>71.2833</td>\n",
       "      <td>C85</td>\n",
       "      <td>C</td>\n",
       "    </tr>\n",
       "    <tr>\n",
       "      <th>2</th>\n",
       "      <td>3</td>\n",
       "      <td>1</td>\n",
       "      <td>3</td>\n",
       "      <td>Heikkinen, Miss. Laina</td>\n",
       "      <td>female</td>\n",
       "      <td>26.0</td>\n",
       "      <td>0</td>\n",
       "      <td>0</td>\n",
       "      <td>STON/O2. 3101282</td>\n",
       "      <td>7.9250</td>\n",
       "      <td>NaN</td>\n",
       "      <td>S</td>\n",
       "    </tr>\n",
       "    <tr>\n",
       "      <th>3</th>\n",
       "      <td>4</td>\n",
       "      <td>1</td>\n",
       "      <td>1</td>\n",
       "      <td>Futrelle, Mrs. Jacques Heath (Lily May Peel)</td>\n",
       "      <td>female</td>\n",
       "      <td>35.0</td>\n",
       "      <td>1</td>\n",
       "      <td>0</td>\n",
       "      <td>113803</td>\n",
       "      <td>53.1000</td>\n",
       "      <td>C123</td>\n",
       "      <td>S</td>\n",
       "    </tr>\n",
       "    <tr>\n",
       "      <th>4</th>\n",
       "      <td>5</td>\n",
       "      <td>0</td>\n",
       "      <td>3</td>\n",
       "      <td>Allen, Mr. William Henry</td>\n",
       "      <td>male</td>\n",
       "      <td>35.0</td>\n",
       "      <td>0</td>\n",
       "      <td>0</td>\n",
       "      <td>373450</td>\n",
       "      <td>8.0500</td>\n",
       "      <td>NaN</td>\n",
       "      <td>S</td>\n",
       "    </tr>\n",
       "  </tbody>\n",
       "</table>\n",
       "</div>"
      ],
      "text/plain": [
       "   PassengerId  Survived  Pclass  \\\n",
       "0            1         0       3   \n",
       "1            2         1       1   \n",
       "2            3         1       3   \n",
       "3            4         1       1   \n",
       "4            5         0       3   \n",
       "\n",
       "                                                Name     Sex   Age  SibSp  \\\n",
       "0                            Braund, Mr. Owen Harris    male  22.0      1   \n",
       "1  Cumings, Mrs. John Bradley (Florence Briggs Th...  female  38.0      1   \n",
       "2                             Heikkinen, Miss. Laina  female  26.0      0   \n",
       "3       Futrelle, Mrs. Jacques Heath (Lily May Peel)  female  35.0      1   \n",
       "4                           Allen, Mr. William Henry    male  35.0      0   \n",
       "\n",
       "   Parch            Ticket     Fare Cabin Embarked  \n",
       "0      0         A/5 21171   7.2500   NaN        S  \n",
       "1      0          PC 17599  71.2833   C85        C  \n",
       "2      0  STON/O2. 3101282   7.9250   NaN        S  \n",
       "3      0            113803  53.1000  C123        S  \n",
       "4      0            373450   8.0500   NaN        S  "
      ]
     },
     "execution_count": 35,
     "metadata": {},
     "output_type": "execute_result"
    }
   ],
   "source": [
    "df.head()"
   ]
  },
  {
   "cell_type": "code",
   "execution_count": 36,
   "id": "3ae62d7b-6629-4330-8d19-3cb398e0b82b",
   "metadata": {},
   "outputs": [
    {
     "data": {
      "text/html": [
       "<div>\n",
       "<style scoped>\n",
       "    .dataframe tbody tr th:only-of-type {\n",
       "        vertical-align: middle;\n",
       "    }\n",
       "\n",
       "    .dataframe tbody tr th {\n",
       "        vertical-align: top;\n",
       "    }\n",
       "\n",
       "    .dataframe thead th {\n",
       "        text-align: right;\n",
       "    }\n",
       "</style>\n",
       "<table border=\"1\" class=\"dataframe\">\n",
       "  <thead>\n",
       "    <tr style=\"text-align: right;\">\n",
       "      <th></th>\n",
       "      <th>PassengerId</th>\n",
       "      <th>Survived</th>\n",
       "      <th>Pclass</th>\n",
       "      <th>Age</th>\n",
       "      <th>SibSp</th>\n",
       "      <th>Parch</th>\n",
       "      <th>Fare</th>\n",
       "    </tr>\n",
       "  </thead>\n",
       "  <tbody>\n",
       "    <tr>\n",
       "      <th>count</th>\n",
       "      <td>891.000000</td>\n",
       "      <td>891.000000</td>\n",
       "      <td>891.000000</td>\n",
       "      <td>714.000000</td>\n",
       "      <td>891.000000</td>\n",
       "      <td>891.000000</td>\n",
       "      <td>891.000000</td>\n",
       "    </tr>\n",
       "    <tr>\n",
       "      <th>mean</th>\n",
       "      <td>446.000000</td>\n",
       "      <td>0.383838</td>\n",
       "      <td>2.308642</td>\n",
       "      <td>29.699118</td>\n",
       "      <td>0.523008</td>\n",
       "      <td>0.381594</td>\n",
       "      <td>32.204208</td>\n",
       "    </tr>\n",
       "    <tr>\n",
       "      <th>std</th>\n",
       "      <td>257.353842</td>\n",
       "      <td>0.486592</td>\n",
       "      <td>0.836071</td>\n",
       "      <td>14.526497</td>\n",
       "      <td>1.102743</td>\n",
       "      <td>0.806057</td>\n",
       "      <td>49.693429</td>\n",
       "    </tr>\n",
       "    <tr>\n",
       "      <th>min</th>\n",
       "      <td>1.000000</td>\n",
       "      <td>0.000000</td>\n",
       "      <td>1.000000</td>\n",
       "      <td>0.420000</td>\n",
       "      <td>0.000000</td>\n",
       "      <td>0.000000</td>\n",
       "      <td>0.000000</td>\n",
       "    </tr>\n",
       "    <tr>\n",
       "      <th>25%</th>\n",
       "      <td>223.500000</td>\n",
       "      <td>0.000000</td>\n",
       "      <td>2.000000</td>\n",
       "      <td>20.125000</td>\n",
       "      <td>0.000000</td>\n",
       "      <td>0.000000</td>\n",
       "      <td>7.910400</td>\n",
       "    </tr>\n",
       "    <tr>\n",
       "      <th>50%</th>\n",
       "      <td>446.000000</td>\n",
       "      <td>0.000000</td>\n",
       "      <td>3.000000</td>\n",
       "      <td>28.000000</td>\n",
       "      <td>0.000000</td>\n",
       "      <td>0.000000</td>\n",
       "      <td>14.454200</td>\n",
       "    </tr>\n",
       "    <tr>\n",
       "      <th>75%</th>\n",
       "      <td>668.500000</td>\n",
       "      <td>1.000000</td>\n",
       "      <td>3.000000</td>\n",
       "      <td>38.000000</td>\n",
       "      <td>1.000000</td>\n",
       "      <td>0.000000</td>\n",
       "      <td>31.000000</td>\n",
       "    </tr>\n",
       "    <tr>\n",
       "      <th>max</th>\n",
       "      <td>891.000000</td>\n",
       "      <td>1.000000</td>\n",
       "      <td>3.000000</td>\n",
       "      <td>80.000000</td>\n",
       "      <td>8.000000</td>\n",
       "      <td>6.000000</td>\n",
       "      <td>512.329200</td>\n",
       "    </tr>\n",
       "  </tbody>\n",
       "</table>\n",
       "</div>"
      ],
      "text/plain": [
       "       PassengerId    Survived      Pclass         Age       SibSp  \\\n",
       "count   891.000000  891.000000  891.000000  714.000000  891.000000   \n",
       "mean    446.000000    0.383838    2.308642   29.699118    0.523008   \n",
       "std     257.353842    0.486592    0.836071   14.526497    1.102743   \n",
       "min       1.000000    0.000000    1.000000    0.420000    0.000000   \n",
       "25%     223.500000    0.000000    2.000000   20.125000    0.000000   \n",
       "50%     446.000000    0.000000    3.000000   28.000000    0.000000   \n",
       "75%     668.500000    1.000000    3.000000   38.000000    1.000000   \n",
       "max     891.000000    1.000000    3.000000   80.000000    8.000000   \n",
       "\n",
       "            Parch        Fare  \n",
       "count  891.000000  891.000000  \n",
       "mean     0.381594   32.204208  \n",
       "std      0.806057   49.693429  \n",
       "min      0.000000    0.000000  \n",
       "25%      0.000000    7.910400  \n",
       "50%      0.000000   14.454200  \n",
       "75%      0.000000   31.000000  \n",
       "max      6.000000  512.329200  "
      ]
     },
     "execution_count": 36,
     "metadata": {},
     "output_type": "execute_result"
    }
   ],
   "source": [
    "df.describe()"
   ]
  },
  {
   "cell_type": "markdown",
   "id": "a03e0607-9602-4e78-97ea-1572a6e8618f",
   "metadata": {},
   "source": [
    "Check the survival rate"
   ]
  },
  {
   "cell_type": "code",
   "execution_count": 37,
   "id": "69d65dee-d534-4950-a6ed-a303ecf66085",
   "metadata": {},
   "outputs": [
    {
     "data": {
      "image/png": "[encoded data removed]",
      "text/plain": [
       "<Figure size 640x480 with 1 Axes>"
      ]
     },
     "metadata": {},
     "output_type": "display_data"
    }
   ],
   "source": [
    "survived_rate = df.iloc[1:]['Survived'].mean()\n",
    "plt.bar(['Survived', 'Not survived'], [survived_rate, 1-survived_rate])\n",
    "plt.ylim(0, 1)\n",
    "plt.title('Survived vs Not Survived')\n",
    "plt.grid(True)\n",
    "plt.text(0, survived_rate, f'{survived_rate:.3f}', ha='center', va='bottom')\n",
    "plt.text(1, 1-survived_rate, f'{1-survived_rate:.3f}', ha='center', va='bottom')\n",
    "plt.show()"
   ]
  },
  {
   "cell_type": "markdown",
   "id": "69cca2a4-1ec6-4d1e-b199-a134de44a6ab",
   "metadata": {},
   "source": [
    "Check the Pclass"
   ]
  },
  {
   "cell_type": "code",
   "execution_count": 38,
   "id": "137d69b3-ae3d-4545-a704-c00f5a91e5b4",
   "metadata": {},
   "outputs": [
    {
     "data": {
      "text/plain": [
       "count    891.000000\n",
       "mean       2.308642\n",
       "std        0.836071\n",
       "min        1.000000\n",
       "25%        2.000000\n",
       "50%        3.000000\n",
       "75%        3.000000\n",
       "max        3.000000\n",
       "Name: Pclass, dtype: float64"
      ]
     },
     "execution_count": 38,
     "metadata": {},
     "output_type": "execute_result"
    }
   ],
   "source": [
    "df[\"Pclass\"].describe()"
   ]
  },
  {
   "cell_type": "code",
   "execution_count": 39,
   "id": "f42d4baf-00fa-4bff-ade5-d45f1a82ed8c",
   "metadata": {},
   "outputs": [
    {
     "data": {
      "text/plain": [
       "Pclass\n",
       "3    491\n",
       "1    216\n",
       "2    184\n",
       "Name: count, dtype: int64"
      ]
     },
     "execution_count": 39,
     "metadata": {},
     "output_type": "execute_result"
    }
   ],
   "source": [
    "df[\"Pclass\"].value_counts()"
   ]
  },
  {
   "cell_type": "markdown",
   "id": "dc5508ec-b6cc-487a-813d-4e02ac5f5f88",
   "metadata": {},
   "source": [
    "We then check the survival rates of different categories of Pclass"
   ]
  },
  {
   "cell_type": "code",
   "execution_count": 40,
   "id": "dfdbc3b9-aaac-4b0f-b8b9-2ed7c508576f",
   "metadata": {},
   "outputs": [
    {
     "data": {
      "text/plain": [
       "Pclass\n",
       "1    0.629630\n",
       "2    0.472826\n",
       "3    0.242363\n",
       "Name: Survived, dtype: float64"
      ]
     },
     "execution_count": 40,
     "metadata": {},
     "output_type": "execute_result"
    }
   ],
   "source": [
    "df.groupby(\"Pclass\")[\"Survived\"].mean()"
   ]
  },
  {
   "cell_type": "markdown",
   "id": "ee2550ce-830c-4ac9-a583-d88dea0176b2",
   "metadata": {},
   "source": [
    "Check the mean survival rates of different bins of Age"
   ]
  },
  {
   "cell_type": "code",
   "execution_count": 41,
   "id": "d0d583fe-2793-4f4c-9964-f13bab66bbc9",
   "metadata": {},
   "outputs": [
    {
     "data": {
      "text/plain": [
       "Age\n",
       "(0, 5]      0.704545\n",
       "(5, 10]     0.350000\n",
       "(10, 15]    0.578947\n",
       "(15, 20]    0.343750\n",
       "(20, 25]    0.344262\n",
       "(25, 30]    0.388889\n",
       "(30, 35]    0.465909\n",
       "(35, 40]    0.417910\n",
       "(40, 45]    0.361702\n",
       "(45, 50]    0.410256\n",
       "(50, 55]    0.416667\n",
       "(55, 60]    0.388889\n",
       "(60, 65]    0.285714\n",
       "(65, 70]    0.000000\n",
       "(70, 75]    0.000000\n",
       "(75, 80]    1.000000\n",
       "Name: Survived, dtype: float64"
      ]
     },
     "execution_count": 41,
     "metadata": {},
     "output_type": "execute_result"
    }
   ],
   "source": [
    "survival_age = df.groupby(pd.cut(df['Age'], bins=range(0, 100, 5)), observed=True)['Survived'].mean()\n",
    "survival_age"
   ]
  },
  {
   "cell_type": "code",
   "execution_count": 42,
   "id": "d67c8620-7414-4425-83e9-29e229f81e12",
   "metadata": {},
   "outputs": [
    {
     "data": {
      "image/png": "[encoded data removed]",
      "text/plain": [
       "<Figure size 640x480 with 1 Axes>"
      ]
     },
     "metadata": {},
     "output_type": "display_data"
    }
   ],
   "source": [
    "plt.bar(survival_age.index.astype(str), survival_age)\n",
    "plt.xticks(rotation=45)\n",
    "plt.show()"
   ]
  },
  {
   "cell_type": "markdown",
   "id": "7efb0625-449c-4b78-9cf4-0da85eacb1af",
   "metadata": {},
   "source": [
    "The frequency of both sex, and the survival rate"
   ]
  },
  {
   "cell_type": "code",
   "execution_count": 43,
   "id": "10363908-d6e8-432e-9a1a-514b08489771",
   "metadata": {},
   "outputs": [
    {
     "data": {
      "text/plain": [
       "Sex\n",
       "male      0.647587\n",
       "female    0.352413\n",
       "Name: proportion, dtype: float64"
      ]
     },
     "execution_count": 43,
     "metadata": {},
     "output_type": "execute_result"
    }
   ],
   "source": [
    "df[\"Sex\"].value_counts(normalize=True)"
   ]
  },
  {
   "cell_type": "code",
   "execution_count": 44,
   "id": "22fd0935-5626-45f1-8f05-3c8d5b458290",
   "metadata": {},
   "outputs": [
    {
     "data": {
      "text/plain": [
       "Sex\n",
       "female    0.742038\n",
       "male      0.188908\n",
       "Name: Survived, dtype: float64"
      ]
     },
     "execution_count": 44,
     "metadata": {},
     "output_type": "execute_result"
    }
   ],
   "source": [
    "df.groupby(\"Sex\")[\"Survived\"].mean()"
   ]
  },
  {
   "cell_type": "markdown",
   "id": "46b0a13f-c853-4cc5-a1ce-30f4eef1ac2c",
   "metadata": {},
   "source": [
    "Survival rate for people with how many siblings/spouses"
   ]
  },
  {
   "cell_type": "code",
   "execution_count": 45,
   "id": "869c5506-f96e-4d31-beb9-ecc54f3ae7ea",
   "metadata": {},
   "outputs": [
    {
     "data": {
      "text/plain": [
       "SibSp\n",
       "0    0.345395\n",
       "1    0.535885\n",
       "2    0.464286\n",
       "3    0.250000\n",
       "4    0.166667\n",
       "5    0.000000\n",
       "8    0.000000\n",
       "Name: Survived, dtype: float64"
      ]
     },
     "execution_count": 45,
     "metadata": {},
     "output_type": "execute_result"
    }
   ],
   "source": [
    "df.groupby(\"SibSp\")[\"Survived\"].mean()"
   ]
  },
  {
   "cell_type": "markdown",
   "id": "9878340a-821d-499b-917f-924e419ae3f2",
   "metadata": {},
   "source": [
    "The survival rate of people with how many parents/children"
   ]
  },
  {
   "cell_type": "code",
   "execution_count": 46,
   "id": "6401b573-2c91-4296-ac62-6450bbfb6804",
   "metadata": {},
   "outputs": [
    {
     "data": {
      "text/plain": [
       "Parch\n",
       "0    0.343658\n",
       "1    0.550847\n",
       "2    0.500000\n",
       "3    0.600000\n",
       "4    0.000000\n",
       "5    0.200000\n",
       "6    0.000000\n",
       "Name: Survived, dtype: float64"
      ]
     },
     "execution_count": 46,
     "metadata": {},
     "output_type": "execute_result"
    }
   ],
   "source": [
    "df.groupby(\"Parch\")[\"Survived\"].mean()"
   ]
  },
  {
   "cell_type": "markdown",
   "id": "9e201459-8f27-47f1-84ce-c6b51f74a6d9",
   "metadata": {},
   "source": [
    "Distribution of fares"
   ]
  },
  {
   "cell_type": "code",
   "execution_count": 47,
   "id": "cacbedf8-60bc-4427-9fc0-f1de562b65df",
   "metadata": {},
   "outputs": [
    {
     "data": {
      "image/png": "[encoded data removed]",
      "text/plain": [
       "<Figure size 1000x600 with 1 Axes>"
      ]
     },
     "metadata": {},
     "output_type": "display_data"
    }
   ],
   "source": [
    "plt.figure(figsize=(10, 6))\n",
    "plt.hist(df['Fare'], bins=50, edgecolor='black')\n",
    "plt.title('Distribution of Fare Prices')\n",
    "plt.xlabel('Fare')\n",
    "plt.ylabel('Count')\n",
    "plt.show()"
   ]
  },
  {
   "cell_type": "markdown",
   "id": "2e191270-c285-407f-88cb-90f5d64201c1",
   "metadata": {},
   "source": [
    "Distribution of fares and survival rates"
   ]
  },
  {
   "cell_type": "code",
   "execution_count": 48,
   "id": "b055d1d6-0671-4b8a-8a53-e2010b0b1e32",
   "metadata": {},
   "outputs": [
    {
     "data": {
      "image/png": "[encoded data removed]",
      "text/plain": [
       "<Figure size 1200x600 with 1 Axes>"
      ]
     },
     "metadata": {},
     "output_type": "display_data"
    }
   ],
   "source": [
    "fare_bins = pd.cut(df['Fare'], bins=range(0, int(df['Fare'].max())+50, 50))\n",
    "survival_by_fare = df.groupby(fare_bins, observed=True)['Survived'].mean()\n",
    "plt.figure(figsize=(12, 6))\n",
    "plt.bar(range(len(survival_by_fare)), survival_by_fare)\n",
    "plt.title('Survival Rate by Fare Price')\n",
    "plt.xlabel('Fare Range')\n",
    "plt.ylabel('Survival Rate')\n",
    "plt.xticks(range(len(survival_by_fare)), survival_by_fare.index.astype(str), rotation=45)\n",
    "plt.show()"
   ]
  },
  {
   "cell_type": "markdown",
   "id": "2ba0c6ee-dcf3-4df0-827d-192872527909",
   "metadata": {},
   "source": [
    "Port of embarkation frequency and survival rate distribution"
   ]
  },
  {
   "cell_type": "code",
   "execution_count": 49,
   "id": "324e0cc7-1510-4364-a3f6-263e9a2b25da",
   "metadata": {},
   "outputs": [
    {
     "data": {
      "text/plain": [
       "Embarked\n",
       "S    0.724409\n",
       "C    0.188976\n",
       "Q    0.086614\n",
       "Name: proportion, dtype: float64"
      ]
     },
     "execution_count": 49,
     "metadata": {},
     "output_type": "execute_result"
    }
   ],
   "source": [
    "df[\"Embarked\"].value_counts(normalize=True)"
   ]
  },
  {
   "cell_type": "code",
   "execution_count": 50,
   "id": "84a118b5-d66f-47d6-9690-bf301b7d0ce1",
   "metadata": {},
   "outputs": [
    {
     "data": {
      "text/plain": [
       "Embarked\n",
       "C    0.553571\n",
       "Q    0.389610\n",
       "S    0.336957\n",
       "Name: Survived, dtype: float64"
      ]
     },
     "execution_count": 50,
     "metadata": {},
     "output_type": "execute_result"
    }
   ],
   "source": [
    "df.groupby(\"Embarked\")[\"Survived\"].mean()"
   ]
  },
  {
   "cell_type": "markdown",
   "id": "2d91c5ea-888b-488f-8b21-206563da2f8c",
   "metadata": {},
   "source": [
    "According to our data visualization, the survival rate of women is significantly higher than that of men, the survival rate of first class is higher than that of first class than that of second class, the survival rate of children is higher than that of other ages, the survival rate of people with 1-2 siblings/spouses is significantly higher than that of others, the survival rate of people with 1-2 parents/children is significantly higher than that of others, and the survival rate of people with tickets above 500 is the highest. Those with fares below 50 have the lowest survival rates, and the port of embarkation in Cherbourg has a significantly higher survival rate than the others."
   ]
  },
  {
   "cell_type": "markdown",
   "id": "c729db3e-5580-4562-8eab-2228d99f5ce9",
   "metadata": {},
   "source": [
    "（2）baseline：logistic regression with basic features-accuracy 0.73"
   ]
  },
  {
   "cell_type": "code",
   "execution_count": 51,
   "id": "806257c2-c7e6-485a-9e9a-49b75c013845",
   "metadata": {},
   "outputs": [
    {
     "name": "stdout",
     "output_type": "stream",
     "text": [
      "Feature Importance:\n",
      "Pclass: 1.0515\n",
      "Sex: 2.6503\n",
      "Age: 0.0385\n",
      "Fare: 0.0030\n",
      "SibSp: 0.3369\n",
      "Parch: 0.0960\n",
      "\n",
      "Accuracy: 0.8101\n"
     ]
    }
   ],
   "source": [
    "from sklearn.linear_model import LogisticRegression\n",
    "from sklearn.model_selection import train_test_split\n",
    "train_data = pd.read_csv('train.csv')\n",
    "test_data = pd.read_csv('test.csv')\n",
    "features = ['Pclass', 'Sex', 'Age', 'Fare', 'SibSp', 'Parch']\n",
    "X = train_data[features].copy()\n",
    "y = train_data['Survived']\n",
    "X_test = test_data[features].copy()\n",
    "X['Age'] = X['Age'].fillna(X['Age'].median())\n",
    "X_test['Age'] = X_test['Age'].fillna(X_test['Age'].median())\n",
    "X_test['Fare'] = X_test['Fare'].fillna(X_test['Fare'].median())\n",
    "X['Sex'] = X['Sex'].map({'female': 1, 'male': 0})\n",
    "X_test['Sex'] = X_test['Sex'].map({'female': 1, 'male': 0})\n",
    "model = LogisticRegression(random_state=42)\n",
    "model.fit(X, y)\n",
    "predictions = model.predict(X_test)\n",
    "submission = pd.DataFrame({\n",
    "    'PassengerId': test_data['PassengerId'],\n",
    "    'Survived': predictions\n",
    "})\n",
    "submission.to_csv('submission.csv', index=False)\n",
    "print(\"Feature Importance:\")\n",
    "for feature, importance in zip(features, abs(model.coef_[0])):\n",
    "    print(f\"{feature}: {importance:.4f}\")\n",
    "X_train, X_val, y_train, y_val = train_test_split(X, y, test_size=0.2, random_state=42)\n",
    "val_model = LogisticRegression(random_state=42)\n",
    "val_model.fit(X_train, y_train)\n",
    "val_score = val_model.score(X_val, y_val)\n",
    "print(f\"\\nAccuracy: {val_score:.4f}\")"
   ]
  },
  {
   "cell_type": "markdown",
   "id": "d6f44f07-c793-4525-9ff5-796468cb7f77",
   "metadata": {},
   "source": [
    "baseline 2: RandomForest with basic features and feature engineering-accuracy 0.74"
   ]
  },
  {
   "cell_type": "code",
   "execution_count": 52,
   "id": "30c498b4-3a26-43ba-809a-608bdf961025",
   "metadata": {},
   "outputs": [
    {
     "name": "stdout",
     "output_type": "stream",
     "text": [
      "\n",
      "Accuracy: 0.7989\n"
     ]
    }
   ],
   "source": [
    "from sklearn.linear_model import LogisticRegression\n",
    "from sklearn.ensemble import RandomForestClassifier\n",
    "from sklearn.model_selection import train_test_split\n",
    "train_data = pd.read_csv('train.csv')\n",
    "test_data = pd.read_csv('test.csv')\n",
    "features = ['Pclass', 'Sex', 'Age', 'Fare', 'SibSp', 'Parch']\n",
    "X = train_data[features].copy()\n",
    "y = train_data['Survived']\n",
    "X_test = test_data[features].copy()\n",
    "X['Age'] = X['Age'].fillna(X['Age'].median())\n",
    "X_test['Age'] = X_test['Age'].fillna(X_test['Age'].median())\n",
    "X_test['Fare'] = X_test['Fare'].fillna(X_test['Fare'].median())\n",
    "X['Sex'] = X['Sex'].map({'female': 1, 'male': 0})\n",
    "X_test['Sex'] = X_test['Sex'].map({'female': 1, 'male': 0})\n",
    "model = RandomForestClassifier(n_estimators=100, random_state=42)\n",
    "model.fit(X, y)\n",
    "predictions = model.predict(X_test)\n",
    "submission = pd.DataFrame({\n",
    "    'PassengerId': test_data['PassengerId'],\n",
    "    'Survived': predictions\n",
    "})\n",
    "submission.to_csv('submission.csv', index=False)\n",
    "X_train, X_val, y_train, y_val = train_test_split(X, y, test_size=0.2, random_state=42)\n",
    "val_model = RandomForestClassifier(n_estimators=100, random_state=42)\n",
    "val_model.fit(X_train, y_train)\n",
    "val_score = val_model.score(X_val, y_val)\n",
    "print(f\"\\nAccuracy: {val_score:.4f}\")"
   ]
  },
  {
   "cell_type": "markdown",
   "id": "9b56ad10-421d-4517-b9e7-5c51c7fcc85a",
   "metadata": {},
   "source": [
    "# (2)：Within baseline, We started doing more detailed data preprocessing"
   ]
  },
  {
   "cell_type": "code",
   "execution_count": 53,
   "id": "c34ad7c8-4c71-4217-ae8f-e41983ded2c5",
   "metadata": {},
   "outputs": [],
   "source": [
    "train_data = pd.read_csv('train.csv')\n",
    "test_data = pd.read_csv('test.csv')\n",
    "df = train_data\n",
    "df1 = test_data"
   ]
  },
  {
   "cell_type": "markdown",
   "id": "c3aade4a-65c9-4c32-b324-60b0ace00ce9",
   "metadata": {},
   "source": [
    "Check the null values"
   ]
  },
  {
   "cell_type": "code",
   "execution_count": 54,
   "id": "30e50039-7888-4a31-921f-d3b207870944",
   "metadata": {},
   "outputs": [
    {
     "data": {
      "text/plain": [
       "PassengerId      0\n",
       "Survived         0\n",
       "Pclass           0\n",
       "Name             0\n",
       "Sex              0\n",
       "Age            177\n",
       "SibSp            0\n",
       "Parch            0\n",
       "Ticket           0\n",
       "Fare             0\n",
       "Cabin          687\n",
       "Embarked         2\n",
       "dtype: int64"
      ]
     },
     "execution_count": 54,
     "metadata": {},
     "output_type": "execute_result"
    }
   ],
   "source": [
    "df.isnull().sum()"
   ]
  },
  {
   "cell_type": "code",
   "execution_count": 55,
   "id": "e63e52ce-bacf-45d9-a1f0-9d89e3faf6b7",
   "metadata": {},
   "outputs": [
    {
     "data": {
      "text/plain": [
       "PassengerId      0\n",
       "Pclass           0\n",
       "Name             0\n",
       "Sex              0\n",
       "Age             86\n",
       "SibSp            0\n",
       "Parch            0\n",
       "Ticket           0\n",
       "Fare             1\n",
       "Cabin          327\n",
       "Embarked         0\n",
       "dtype: int64"
      ]
     },
     "execution_count": 55,
     "metadata": {},
     "output_type": "execute_result"
    }
   ],
   "source": [
    "df1.isnull().sum()"
   ]
  },
  {
   "cell_type": "markdown",
   "id": "e5f40b1b-32f7-4993-85f2-09b629029c13",
   "metadata": {},
   "source": [
    "Now check the updated status of all features."
   ]
  },
  {
   "cell_type": "code",
   "execution_count": 56,
   "id": "12a590da-f101-4acb-bea8-a2e0c7cf648c",
   "metadata": {},
   "outputs": [
    {
     "data": {
      "text/html": [
       "<div>\n",
       "<style scoped>\n",
       "    .dataframe tbody tr th:only-of-type {\n",
       "        vertical-align: middle;\n",
       "    }\n",
       "\n",
       "    .dataframe tbody tr th {\n",
       "        vertical-align: top;\n",
       "    }\n",
       "\n",
       "    .dataframe thead th {\n",
       "        text-align: right;\n",
       "    }\n",
       "</style>\n",
       "<table border=\"1\" class=\"dataframe\">\n",
       "  <thead>\n",
       "    <tr style=\"text-align: right;\">\n",
       "      <th></th>\n",
       "      <th>PassengerId</th>\n",
       "      <th>Survived</th>\n",
       "      <th>Pclass</th>\n",
       "      <th>Name</th>\n",
       "      <th>Sex</th>\n",
       "      <th>Age</th>\n",
       "      <th>SibSp</th>\n",
       "      <th>Parch</th>\n",
       "      <th>Ticket</th>\n",
       "      <th>Fare</th>\n",
       "      <th>Cabin</th>\n",
       "      <th>Embarked</th>\n",
       "    </tr>\n",
       "  </thead>\n",
       "  <tbody>\n",
       "    <tr>\n",
       "      <th>0</th>\n",
       "      <td>1</td>\n",
       "      <td>0</td>\n",
       "      <td>3</td>\n",
       "      <td>Braund, Mr. Owen Harris</td>\n",
       "      <td>male</td>\n",
       "      <td>22.0</td>\n",
       "      <td>1</td>\n",
       "      <td>0</td>\n",
       "      <td>A/5 21171</td>\n",
       "      <td>7.2500</td>\n",
       "      <td>NaN</td>\n",
       "      <td>S</td>\n",
       "    </tr>\n",
       "    <tr>\n",
       "      <th>1</th>\n",
       "      <td>2</td>\n",
       "      <td>1</td>\n",
       "      <td>1</td>\n",
       "      <td>Cumings, Mrs. John Bradley (Florence Briggs Th...</td>\n",
       "      <td>female</td>\n",
       "      <td>38.0</td>\n",
       "      <td>1</td>\n",
       "      <td>0</td>\n",
       "      <td>PC 17599</td>\n",
       "      <td>71.2833</td>\n",
       "      <td>C85</td>\n",
       "      <td>C</td>\n",
       "    </tr>\n",
       "    <tr>\n",
       "      <th>2</th>\n",
       "      <td>3</td>\n",
       "      <td>1</td>\n",
       "      <td>3</td>\n",
       "      <td>Heikkinen, Miss. Laina</td>\n",
       "      <td>female</td>\n",
       "      <td>26.0</td>\n",
       "      <td>0</td>\n",
       "      <td>0</td>\n",
       "      <td>STON/O2. 3101282</td>\n",
       "      <td>7.9250</td>\n",
       "      <td>NaN</td>\n",
       "      <td>S</td>\n",
       "    </tr>\n",
       "    <tr>\n",
       "      <th>3</th>\n",
       "      <td>4</td>\n",
       "      <td>1</td>\n",
       "      <td>1</td>\n",
       "      <td>Futrelle, Mrs. Jacques Heath (Lily May Peel)</td>\n",
       "      <td>female</td>\n",
       "      <td>35.0</td>\n",
       "      <td>1</td>\n",
       "      <td>0</td>\n",
       "      <td>113803</td>\n",
       "      <td>53.1000</td>\n",
       "      <td>C123</td>\n",
       "      <td>S</td>\n",
       "    </tr>\n",
       "    <tr>\n",
       "      <th>4</th>\n",
       "      <td>5</td>\n",
       "      <td>0</td>\n",
       "      <td>3</td>\n",
       "      <td>Allen, Mr. William Henry</td>\n",
       "      <td>male</td>\n",
       "      <td>35.0</td>\n",
       "      <td>0</td>\n",
       "      <td>0</td>\n",
       "      <td>373450</td>\n",
       "      <td>8.0500</td>\n",
       "      <td>NaN</td>\n",
       "      <td>S</td>\n",
       "    </tr>\n",
       "  </tbody>\n",
       "</table>\n",
       "</div>"
      ],
      "text/plain": [
       "   PassengerId  Survived  Pclass  \\\n",
       "0            1         0       3   \n",
       "1            2         1       1   \n",
       "2            3         1       3   \n",
       "3            4         1       1   \n",
       "4            5         0       3   \n",
       "\n",
       "                                                Name     Sex   Age  SibSp  \\\n",
       "0                            Braund, Mr. Owen Harris    male  22.0      1   \n",
       "1  Cumings, Mrs. John Bradley (Florence Briggs Th...  female  38.0      1   \n",
       "2                             Heikkinen, Miss. Laina  female  26.0      0   \n",
       "3       Futrelle, Mrs. Jacques Heath (Lily May Peel)  female  35.0      1   \n",
       "4                           Allen, Mr. William Henry    male  35.0      0   \n",
       "\n",
       "   Parch            Ticket     Fare Cabin Embarked  \n",
       "0      0         A/5 21171   7.2500   NaN        S  \n",
       "1      0          PC 17599  71.2833   C85        C  \n",
       "2      0  STON/O2. 3101282   7.9250   NaN        S  \n",
       "3      0            113803  53.1000  C123        S  \n",
       "4      0            373450   8.0500   NaN        S  "
      ]
     },
     "execution_count": 56,
     "metadata": {},
     "output_type": "execute_result"
    }
   ],
   "source": [
    "df.head()"
   ]
  },
  {
   "cell_type": "code",
   "execution_count": 57,
   "id": "b77849de-1f89-4d19-a230-65f96131a563",
   "metadata": {},
   "outputs": [
    {
     "data": {
      "text/html": [
       "<div>\n",
       "<style scoped>\n",
       "    .dataframe tbody tr th:only-of-type {\n",
       "        vertical-align: middle;\n",
       "    }\n",
       "\n",
       "    .dataframe tbody tr th {\n",
       "        vertical-align: top;\n",
       "    }\n",
       "\n",
       "    .dataframe thead th {\n",
       "        text-align: right;\n",
       "    }\n",
       "</style>\n",
       "<table border=\"1\" class=\"dataframe\">\n",
       "  <thead>\n",
       "    <tr style=\"text-align: right;\">\n",
       "      <th></th>\n",
       "      <th>PassengerId</th>\n",
       "      <th>Survived</th>\n",
       "      <th>Pclass</th>\n",
       "      <th>Age</th>\n",
       "      <th>SibSp</th>\n",
       "      <th>Parch</th>\n",
       "      <th>Fare</th>\n",
       "    </tr>\n",
       "  </thead>\n",
       "  <tbody>\n",
       "    <tr>\n",
       "      <th>count</th>\n",
       "      <td>891.000000</td>\n",
       "      <td>891.000000</td>\n",
       "      <td>891.000000</td>\n",
       "      <td>714.000000</td>\n",
       "      <td>891.000000</td>\n",
       "      <td>891.000000</td>\n",
       "      <td>891.000000</td>\n",
       "    </tr>\n",
       "    <tr>\n",
       "      <th>mean</th>\n",
       "      <td>446.000000</td>\n",
       "      <td>0.383838</td>\n",
       "      <td>2.308642</td>\n",
       "      <td>29.699118</td>\n",
       "      <td>0.523008</td>\n",
       "      <td>0.381594</td>\n",
       "      <td>32.204208</td>\n",
       "    </tr>\n",
       "    <tr>\n",
       "      <th>std</th>\n",
       "      <td>257.353842</td>\n",
       "      <td>0.486592</td>\n",
       "      <td>0.836071</td>\n",
       "      <td>14.526497</td>\n",
       "      <td>1.102743</td>\n",
       "      <td>0.806057</td>\n",
       "      <td>49.693429</td>\n",
       "    </tr>\n",
       "    <tr>\n",
       "      <th>min</th>\n",
       "      <td>1.000000</td>\n",
       "      <td>0.000000</td>\n",
       "      <td>1.000000</td>\n",
       "      <td>0.420000</td>\n",
       "      <td>0.000000</td>\n",
       "      <td>0.000000</td>\n",
       "      <td>0.000000</td>\n",
       "    </tr>\n",
       "    <tr>\n",
       "      <th>25%</th>\n",
       "      <td>223.500000</td>\n",
       "      <td>0.000000</td>\n",
       "      <td>2.000000</td>\n",
       "      <td>20.125000</td>\n",
       "      <td>0.000000</td>\n",
       "      <td>0.000000</td>\n",
       "      <td>7.910400</td>\n",
       "    </tr>\n",
       "    <tr>\n",
       "      <th>50%</th>\n",
       "      <td>446.000000</td>\n",
       "      <td>0.000000</td>\n",
       "      <td>3.000000</td>\n",
       "      <td>28.000000</td>\n",
       "      <td>0.000000</td>\n",
       "      <td>0.000000</td>\n",
       "      <td>14.454200</td>\n",
       "    </tr>\n",
       "    <tr>\n",
       "      <th>75%</th>\n",
       "      <td>668.500000</td>\n",
       "      <td>1.000000</td>\n",
       "      <td>3.000000</td>\n",
       "      <td>38.000000</td>\n",
       "      <td>1.000000</td>\n",
       "      <td>0.000000</td>\n",
       "      <td>31.000000</td>\n",
       "    </tr>\n",
       "    <tr>\n",
       "      <th>max</th>\n",
       "      <td>891.000000</td>\n",
       "      <td>1.000000</td>\n",
       "      <td>3.000000</td>\n",
       "      <td>80.000000</td>\n",
       "      <td>8.000000</td>\n",
       "      <td>6.000000</td>\n",
       "      <td>512.329200</td>\n",
       "    </tr>\n",
       "  </tbody>\n",
       "</table>\n",
       "</div>"
      ],
      "text/plain": [
       "       PassengerId    Survived      Pclass         Age       SibSp  \\\n",
       "count   891.000000  891.000000  891.000000  714.000000  891.000000   \n",
       "mean    446.000000    0.383838    2.308642   29.699118    0.523008   \n",
       "std     257.353842    0.486592    0.836071   14.526497    1.102743   \n",
       "min       1.000000    0.000000    1.000000    0.420000    0.000000   \n",
       "25%     223.500000    0.000000    2.000000   20.125000    0.000000   \n",
       "50%     446.000000    0.000000    3.000000   28.000000    0.000000   \n",
       "75%     668.500000    1.000000    3.000000   38.000000    1.000000   \n",
       "max     891.000000    1.000000    3.000000   80.000000    8.000000   \n",
       "\n",
       "            Parch        Fare  \n",
       "count  891.000000  891.000000  \n",
       "mean     0.381594   32.204208  \n",
       "std      0.806057   49.693429  \n",
       "min      0.000000    0.000000  \n",
       "25%      0.000000    7.910400  \n",
       "50%      0.000000   14.454200  \n",
       "75%      0.000000   31.000000  \n",
       "max      6.000000  512.329200  "
      ]
     },
     "execution_count": 57,
     "metadata": {},
     "output_type": "execute_result"
    }
   ],
   "source": [
    "df.describe()"
   ]
  },
  {
   "cell_type": "markdown",
   "id": "0fb954b8-2018-42ad-9c50-e7535e993d7b",
   "metadata": {},
   "source": [
    "# (3) Feature Engineering"
   ]
  },
  {
   "cell_type": "markdown",
   "id": "1945788b-5f22-417d-94ca-bdbda2365e16",
   "metadata": {},
   "source": [
    "We try to handel Null values.\n",
    "fill null values with :\n",
    "\n",
    "median for numerical feaures\n",
    "mode for categorical features\n",
    "Or using linear regression"
   ]
  },
  {
   "cell_type": "markdown",
   "id": "956882ef-e9cb-442a-9794-a24316155aa2",
   "metadata": {},
   "source": [
    "Next we try to extract all titles in the Name column and check the frequencies."
   ]
  },
  {
   "cell_type": "code",
   "execution_count": 58,
   "id": "e3fb4b4c-1cf8-4836-837c-941f9d4f5756",
   "metadata": {},
   "outputs": [
    {
     "name": "stdout",
     "output_type": "stream",
     "text": [
      "Titles：\n",
      "['Capt', 'Col', 'Countess', 'Don', 'Dona', 'Dr', 'Jonkheer', 'Lady', 'Major', 'Master', 'Miss', 'Mlle', 'Mme', 'Mr', 'Mrs', 'Ms', 'Rev', 'Sir']\n",
      "\n",
      "The frequency of titles in train.csv：\n",
      "Name\n",
      "Mr          517\n",
      "Miss        182\n",
      "Mrs         125\n",
      "Master       40\n",
      "Dr            7\n",
      "Rev           6\n",
      "Mlle          2\n",
      "Major         2\n",
      "Col           2\n",
      "Countess      1\n",
      "Capt          1\n",
      "Ms            1\n",
      "Sir           1\n",
      "Lady          1\n",
      "Mme           1\n",
      "Don           1\n",
      "Jonkheer      1\n",
      "Name: count, dtype: int64\n",
      "\n",
      "The frequency of title in test.csv：\n",
      "Name\n",
      "Mr        240\n",
      "Miss       78\n",
      "Mrs        72\n",
      "Master     21\n",
      "Col         2\n",
      "Rev         2\n",
      "Ms          1\n",
      "Dr          1\n",
      "Dona        1\n",
      "Name: count, dtype: int64\n"
     ]
    }
   ],
   "source": [
    "# Extract title from the Name column\n",
    "train_titles = df['Name'].str.extract(' ([A-Za-z]+)\\.', expand=False)\n",
    "test_titles = df1['Name'].str.extract(' ([A-Za-z]+)\\.', expand=False)\n",
    "all_titles = pd.concat([train_titles, test_titles]).unique()\n",
    "# Sort the titles and convert them to a list\n",
    "titles_list = sorted(list(all_titles))\n",
    "print(\"Titles：\")\n",
    "print(titles_list)\n",
    "# Check the frequency of title\n",
    "\n",
    "print(\"\\nThe frequency of titles in train.csv：\")\n",
    "print(train_titles.value_counts())\n",
    "print(\"\\nThe frequency of title in test.csv：\")\n",
    "print(test_titles.value_counts())"
   ]
  },
  {
   "cell_type": "code",
   "execution_count": 59,
   "id": "57687a22-0ba8-43b2-8416-d8004b8808d9",
   "metadata": {},
   "outputs": [],
   "source": [
    "from sklearn.linear_model import LinearRegression\n",
    "# First we perform the basic feature transformation\n",
    "for df2 in [df, df1]:\n",
    "    # Gender coding and basic characteristics processing\n",
    "    df2['Sex'] = df2['Sex'].map({'female': 0, 'male': 1})\n",
    "    df2['Fare'] = df2['Fare'].fillna(df2['Fare'].median())\n",
    "    df2['Embarked'] = df2['Embarked'].fillna(df2['Embarked'].mode()[0])\n",
    "    df2['Embarked'] = df2['Embarked'].map({'S': 0, 'C': 1, 'Q': 2})\n",
    "    # Title extraction and mapping\n",
    "    df2['Title'] = df2['Name'].str.extract(' ([A-Za-z]+)\\.', expand=False)\n",
    "    title_map = {\n",
    "        'Mr': 1, 'Don': 1,                    # Civilian males\n",
    "        'Miss': 2, 'Mlle': 2,                 # Unmarried women\n",
    "        'Mrs': 3, 'Ms': 3, 'Mme': 3,         # Married women\n",
    "        'Master': 4,                          # Young\n",
    "        'Countess': 5, 'Lady': 5, 'Dona': 5, # Noble wommen\n",
    "        'Jonkheer': 6, 'Sir': 6,             # Noble males\n",
    "        'Dr': 7,                             # Doctors\n",
    "        'Rev': 8,                            # Priests\n",
    "        'Col': 9, 'Major': 9, 'Capt': 9      # Specials\n",
    "    }\n",
    "    df2['Title'] = df2['Title'].map(title_map)\n",
    "\n",
    "# Age prediction for the training set and the test set were processed separately by linear regression.\n",
    "age_features_train = ['Pclass', 'Sex', 'Fare', 'Title', 'Survived', 'SibSp', 'Parch']\n",
    "known_age_train = df[df['Age'].notna()]\n",
    "unknown_age_train = df[df['Age'].isna()]\n",
    "lr_model_train = LinearRegression(positive=True)\n",
    "lr_model_train.fit(known_age_train[age_features_train], known_age_train['Age'])\n",
    "predicted_ages_train = lr_model_train.predict(unknown_age_train[age_features_train])\n",
    "df.loc[df['Age'].isna(), 'Age'] = predicted_ages_train\n",
    "\n",
    "age_features_test = ['Pclass', 'Sex', 'Fare', 'Title', 'SibSp', 'Parch']\n",
    "known_age_train = df[df['Age'].notna()] \n",
    "lr_model_test = LinearRegression(positive=True)\n",
    "lr_model_test.fit(known_age_train[age_features_test], known_age_train['Age'])\n",
    "unknown_age_test = df1[df1['Age'].isna()]\n",
    "predicted_ages_test = lr_model_test.predict(unknown_age_test[age_features_test])\n",
    "df1.loc[df1['Age'].isna(), 'Age'] = predicted_ages_test\n",
    "\n",
    "for df2 in [df, df1]:\n",
    "    # Deck mapping\n",
    "    df2['Deck'] = df2['Cabin'].fillna('U').str[0]\n",
    "    deck_map = {\n",
    "        'A': 1, 'B': 2, 'C': 3, 'D': 4,\n",
    "        'E': 5, 'F': 6, 'G': 7, 'T': 8, 'U': 0\n",
    "    }\n",
    "    df2['Deck'] = df2['Deck'].map(deck_map)    \n",
    "    # Using fares to predict Deck\n",
    "    known_deck = df2[df2['Deck'] != 0]\n",
    "    lr_deck = LinearRegression()\n",
    "    lr_deck.fit(known_deck[['Fare', 'Title']], known_deck['Deck'])\n",
    "    unknown_deck = df2[df2['Deck'] == 0]\n",
    "    predicted_deck = lr_deck.predict(unknown_deck[['Fare', 'Title']])\n",
    "    df2.loc[df2['Deck'] == 0, 'Deck'] = np.round(predicted_deck)\n",
    "    \n",
    "    # Create composite features\n",
    "    df2['FamilySize'] = df2['SibSp'] + df2['Parch'] + 1\n",
    "    df2['Agebin'] = pd.qcut(df2['Age'], q=5, labels=False)\n",
    "    df2['Farebin'] = pd.qcut(df2['Fare'], q=5, labels=False)\n",
    "    df2['IsAlone'] = (df2['FamilySize'] == 1).astype(int)\n",
    "    df2['PclassSex'] = df2['Pclass'].astype(str) + df2['Sex'].astype(str)\n",
    "    df2['Fare/FamilySize'] = df2['Fare']/df2['FamilySize']\n",
    "    df2['Age_Class'] = df2['Age'] * df2['Pclass']\n",
    "    df2['FreeFare'] = df2['Fare'] == 0\n",
    "    # PclassSex mapping\n",
    "    pclass_sex_map = {\n",
    "        '10': 1, '11': 2,  \n",
    "        '20': 3, '21': 4, \n",
    "        '30': 5, '31': 6  \n",
    "    }\n",
    "    df2['PclassSex'] = df2['PclassSex'].map(pclass_sex_map)"
   ]
  },
  {
   "cell_type": "markdown",
   "id": "4e43d059-a176-49cc-8842-955b4caf72a3",
   "metadata": {},
   "source": [
    "# (4): Model prediction and evaluation"
   ]
  },
  {
   "cell_type": "code",
   "execution_count": 60,
   "id": "48fff981-5e86-4229-aa28-d3faa8059399",
   "metadata": {},
   "outputs": [
    {
     "name": "stdout",
     "output_type": "stream",
     "text": [
      "Random Forest Score: 0.8209\n",
      "\n",
      "Random Forest Cross Validation Scores:\n",
      "Mean: 0.8126 (+/- 0.0160)\n"
     ]
    }
   ],
   "source": [
    "from sklearn.ensemble import RandomForestClassifier\n",
    "from sklearn.model_selection import train_test_split, cross_val_score\n",
    "from sklearn.metrics import classification_report\n",
    "# Choose the features\n",
    "features = ['PclassSex', 'Agebin', 'Farebin', 'Embarked', 'FamilySize', 'Deck', 'Title', 'Fare/FamilySize', 'IsAlone', 'FreeFare']\n",
    "\n",
    "# Since Agebin and Farebin are categorical variables, unique thermal encoding is required\n",
    "X = pd.get_dummies(df[features])\n",
    "y = df['Survived']\n",
    "X_test = pd.get_dummies(df1[features], columns=['Agebin', 'Farebin'])\n",
    "X_test = X_test.reindex(columns=X.columns, fill_value=0)\n",
    "\n",
    "# Split train data and test data\n",
    "X_train, X_val, y_train, y_val = train_test_split(X, y, test_size=0.3, random_state=42)\n",
    "\n",
    "# Random Forest\n",
    "rf_model = RandomForestClassifier(n_estimators=500, random_state=42, min_samples_leaf=5, min_samples_split=5, max_depth=3, max_features='log2')\n",
    "rf_model.fit(X_train, y_train)\n",
    "rf_score = rf_model.score(X_val, y_val)\n",
    "print(f\"Random Forest Score: {rf_score:.4f}\")\n",
    "\n",
    "# Cross validation\n",
    "scores = cross_val_score(rf_model, X, y, cv=5)\n",
    "print(f\"\\nRandom Forest Cross Validation Scores:\")\n",
    "print(f\"Mean: {scores.mean():.4f} (+/- {scores.std() * 2:.4f})\")\n",
    "\n",
    "# Prediction\n",
    "rf_predictions = rf_model.predict(X_test) \n",
    "rf_submission = pd.DataFrame({\n",
    "    'PassengerId': df1['PassengerId'],\n",
    "    'Survived': rf_predictions\n",
    "})\n",
    "rf_submission.to_csv('rf_titanic.csv', index=False)"
   ]
  },
  {
   "cell_type": "code",
   "execution_count": 61,
   "id": "addc3df7-2824-4e85-9336-65d9f124af2b",
   "metadata": {},
   "outputs": [
    {
     "name": "stdout",
     "output_type": "stream",
     "text": [
      "\n",
      "Report:\n",
      "              precision    recall  f1-score   support\n",
      "\n",
      "           0       0.81      0.90      0.86       157\n",
      "           1       0.84      0.70      0.76       111\n",
      "\n",
      "    accuracy                           0.82       268\n",
      "   macro avg       0.83      0.80      0.81       268\n",
      "weighted avg       0.82      0.82      0.82       268\n",
      "\n"
     ]
    }
   ],
   "source": [
    "# Output detailed categorical reports\n",
    "y_val_pred = rf_model.predict(X_val)\n",
    "print(\"\\nReport:\")\n",
    "print(classification_report(y_val, y_val_pred))"
   ]
  },
  {
   "cell_type": "markdown",
   "id": "a69e46c7-64f0-42c3-b081-5044dac074c0",
   "metadata": {},
   "source": [
    "## We found that the recall rate of \"1\" is low(72%) compared to \"0\"(89%). Thus, we try to do sampling with SMOTETomek and clean up the sample to remove some of the most likely classes of noise"
   ]
  },
  {
   "cell_type": "code",
   "execution_count": 62,
   "id": "9f9971d5-07d3-40da-a8d0-f42e4801eaf5",
   "metadata": {},
   "outputs": [
    {
     "name": "stdout",
     "output_type": "stream",
     "text": [
      "\n",
      "Category distribution after resampling:\n",
      "Survived\n",
      "0    366\n",
      "1    209\n",
      "Name: count, dtype: int64\n",
      "\n",
      "Random Forest Score on Validation Set: 0.8209\n",
      "\n",
      "Categorial Report:\n",
      "              precision    recall  f1-score   support\n",
      "\n",
      "           0       0.82      0.89      0.85       157\n",
      "           1       0.82      0.73      0.77       111\n",
      "\n",
      "    accuracy                           0.82       268\n",
      "   macro avg       0.82      0.81      0.81       268\n",
      "weighted avg       0.82      0.82      0.82       268\n",
      "\n",
      "\n",
      "Random Forest Cross Validation Scores:\n",
      "Mean: 0.8126 (+/- 0.0160)\n",
      "\n",
      "Feature Importance:\n",
      "           feature  importance\n",
      "6            Title    0.432442\n",
      "0        PclassSex    0.279140\n",
      "7  Fare/FamilySize    0.094661\n",
      "2          Farebin    0.066581\n",
      "4       FamilySize    0.051581\n",
      "5             Deck    0.027552\n",
      "1           Agebin    0.023198\n",
      "3         Embarked    0.012779\n",
      "8          IsAlone    0.011748\n",
      "9         FreeFare    0.000317\n"
     ]
    }
   ],
   "source": [
    "from imblearn.combine import SMOTETomek\n",
    "# Using SMOTETomek\n",
    "smote = SMOTETomek(sampling_strategy=0.6, random_state=42)\n",
    "X_train_resampled, y_train_resampled = smote.fit_resample(X_train, y_train)\n",
    "\n",
    "# View the category distribution after resampling\n",
    "print(\"\\nCategory distribution after resampling:\")\n",
    "print(pd.Series(y_train_resampled).value_counts())\n",
    "\n",
    "# Random Forest\n",
    "rf_model = RandomForestClassifier(\n",
    "    n_estimators=500, \n",
    "    random_state=42, \n",
    "    min_samples_leaf=5, \n",
    "    min_samples_split=5, \n",
    "    max_depth=3, \n",
    "    max_features='log2'\n",
    ")\n",
    "rf_model.fit(X_train_resampled, y_train_resampled)\n",
    "\n",
    "rf_score = rf_model.score(X_val, y_val)\n",
    "print(f\"\\nRandom Forest Score on Validation Set: {rf_score:.4f}\")\n",
    "\n",
    "# Output detailed categorical reports\n",
    "y_val_pred = rf_model.predict(X_val)\n",
    "print(\"\\nCategorial Report:\")\n",
    "print(classification_report(y_val, y_val_pred))\n",
    "\n",
    "# Cross validation\n",
    "scores = cross_val_score(rf_model, X, y, cv=5)\n",
    "print(f\"\\nRandom Forest Cross Validation Scores:\")\n",
    "print(f\"Mean: {scores.mean():.4f} (+/- {scores.std() * 2:.4f})\")\n",
    "\n",
    "# Check the feature importance\n",
    "feature_importance = pd.DataFrame({\n",
    "    'feature': X.columns,\n",
    "    'importance': rf_model.feature_importances_\n",
    "})\n",
    "print(\"\\nFeature Importance:\")\n",
    "print(feature_importance.sort_values('importance', ascending=False))\n",
    "\n",
    "# Final prediction\n",
    "rf_predictions = rf_model.predict(X_test)\n",
    "rf_submission = pd.DataFrame({\n",
    "    'PassengerId': df1['PassengerId'],\n",
    "    'Survived': rf_predictions\n",
    "})\n",
    "rf_submission.to_csv('rf_prediction_with_SMOTE.csv', index=False)"
   ]
  }
 ],
 "metadata": {
  "kernelspec": {
   "display_name": "Python 3 (ipykernel)",
   "language": "python",
   "name": "python3"
  },
  "language_info": {
   "codemirror_mode": {
    "name": "ipython",
    "version": 3
   },
   "file_extension": ".py",
   "mimetype": "text/x-python",
   "name": "python",
   "nbconvert_exporter": "python",
   "pygments_lexer": "ipython3",
   "version": "3.11.10"
  }
 },
 "nbformat": 4,
 "nbformat_minor": 5
}
